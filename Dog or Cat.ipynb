{
 "cells": [
  {
   "cell_type": "code",
   "execution_count": 52,
   "metadata": {},
   "outputs": [],
   "source": [
    "from keras.models import Sequential\n",
    "from keras.layers import Conv2D\n",
    "from keras.layers import MaxPooling2D\n",
    "from keras.layers import Flatten\n",
    "from keras.layers import Dense\n",
    "from keras.layers import Dense, Dropout, Activation, Convolution2D, MaxPooling2D, Flatten, Input, merge\n"
   ]
  },
  {
   "cell_type": "code",
   "execution_count": 53,
   "metadata": {},
   "outputs": [],
   "source": [
    "model = Sequential()"
   ]
  },
  {
   "cell_type": "code",
   "execution_count": 54,
   "metadata": {},
   "outputs": [],
   "source": [
    "model.add(Conv2D(32, (3, 3), input_shape = (64, 64, 3), activation = 'relu'))\n",
    "model.add(MaxPooling2D(pool_size = (2, 2)))\n"
   ]
  },
  {
   "cell_type": "code",
   "execution_count": 55,
   "metadata": {},
   "outputs": [],
   "source": [
    "model.add(Conv2D(32, (3, 3), activation = 'relu'))\n",
    "model.add(MaxPooling2D(pool_size = (2, 2)))\n"
   ]
  },
  {
   "cell_type": "code",
   "execution_count": 56,
   "metadata": {},
   "outputs": [],
   "source": [
    "model.add(Conv2D(64, (3, 3), activation = 'relu'))\n",
    "model.add(MaxPooling2D(pool_size = (2, 2)))\n"
   ]
  },
  {
   "cell_type": "code",
   "execution_count": 57,
   "metadata": {},
   "outputs": [],
   "source": [
    "model.add(Flatten())\n",
    "model.add(Dense(units = 128, activation = 'relu'))\n",
    "model.add(Dropout(0.5))"
   ]
  },
  {
   "cell_type": "code",
   "execution_count": 58,
   "metadata": {},
   "outputs": [],
   "source": [
    "model.add(Dense(units = 1, activation = 'sigmoid'))\n",
    "model.add(Dropout(0.5))"
   ]
  },
  {
   "cell_type": "code",
   "execution_count": 59,
   "metadata": {},
   "outputs": [],
   "source": [
    "model.compile(optimizer = 'adam', loss = 'binary_crossentropy', metrics = ['accuracy'])"
   ]
  },
  {
   "cell_type": "code",
   "execution_count": 60,
   "metadata": {},
   "outputs": [],
   "source": [
    "from keras.preprocessing.image import ImageDataGenerator"
   ]
  },
  {
   "cell_type": "code",
   "execution_count": 61,
   "metadata": {},
   "outputs": [
    {
     "name": "stdout",
     "output_type": "stream",
     "text": [
      "Found 8005 images belonging to 2 classes.\n",
      "Found 2023 images belonging to 2 classes.\n"
     ]
    }
   ],
   "source": [
    "train_datagen = ImageDataGenerator(rescale = 1./255,\n",
    "shear_range = 0.2,\n",
    "zoom_range = 0.2,\n",
    "horizontal_flip = True)\n",
    "test_datagen = ImageDataGenerator(rescale = 1./255)\n",
    "#path_to_trainset = 'C:\\Users\\Hemanth\\Image\\training_set'\n",
    "training_set = train_datagen.flow_from_directory('training_set',\n",
    "target_size = (64, 64),\n",
    "batch_size = 32,\n",
    "class_mode = 'binary')\n",
    "#path_to_testset = 'C:\\Users\\Hemanth\\Image\\test_set'\n",
    "test_set = test_datagen.flow_from_directory('test_set',\n",
    "target_size = (64, 64),\n",
    "batch_size = 32,\n",
    "class_mode = 'binary')"
   ]
  },
  {
   "cell_type": "code",
   "execution_count": 64,
   "metadata": {},
   "outputs": [
    {
     "name": "stdout",
     "output_type": "stream",
     "text": [
      "Epoch 1/20\n",
      "8005/8005 [==============================] - 3477s 434ms/step - loss: 4.3271 - acc: 0.5852 - val_loss: 0.7433 - val_acc: 0.5008\n",
      "Epoch 2/20\n",
      "8005/8005 [==============================] - 3158s 394ms/step - loss: 4.2664 - acc: 0.6321 - val_loss: 0.6489 - val_acc: 0.5158\n",
      "Epoch 3/20\n",
      "8005/8005 [==============================] - 3112s 389ms/step - loss: 4.2437 - acc: 0.6518 - val_loss: 0.5995 - val_acc: 0.5689\n",
      "Epoch 4/20\n",
      "8005/8005 [==============================] - 3012s 376ms/step - loss: 4.2749 - acc: 0.6444 - val_loss: 0.7181 - val_acc: 0.4999\n",
      "Epoch 5/20\n",
      "8005/8005 [==============================] - 2832s 354ms/step - loss: 4.2427 - acc: 0.6495 - val_loss: 0.6684 - val_acc: 0.5005\n",
      "Epoch 6/20\n",
      "8005/8005 [==============================] - 2866s 358ms/step - loss: 4.2364 - acc: 0.6566 - val_loss: 0.6084 - val_acc: 0.5649\n",
      "Epoch 7/20\n",
      "8005/8005 [==============================] - 2820s 352ms/step - loss: 4.2177 - acc: 0.6684 - val_loss: 0.6800 - val_acc: 0.5282\n",
      "Epoch 8/20\n",
      "8005/8005 [==============================] - 2826s 353ms/step - loss: 4.2445 - acc: 0.6630 - val_loss: 0.5973 - val_acc: 0.5948\n",
      "Epoch 9/20\n",
      "8005/8005 [==============================] - 2847s 356ms/step - loss: 4.1978 - acc: 0.6763 - val_loss: 0.5951 - val_acc: 0.5953\n",
      "Epoch 10/20\n",
      "8005/8005 [==============================] - 2909s 363ms/step - loss: 4.2155 - acc: 0.6744 - val_loss: 0.5315 - val_acc: 0.6489\n",
      "Epoch 11/20\n",
      "8005/8005 [==============================] - 2958s 370ms/step - loss: 4.2162 - acc: 0.6718 - val_loss: 0.6058 - val_acc: 0.6030\n",
      "Epoch 12/20\n",
      "8005/8005 [==============================] - 3008s 376ms/step - loss: 4.2199 - acc: 0.6799 - val_loss: 0.7660 - val_acc: 0.5001\n",
      "Epoch 13/20\n",
      "8005/8005 [==============================] - 3246s 405ms/step - loss: 4.2052 - acc: 0.6777 - val_loss: 0.5548 - val_acc: 0.5718\n",
      "Epoch 14/20\n",
      "8005/8005 [==============================] - 4103s 513ms/step - loss: 4.2294 - acc: 0.6668 - val_loss: 0.5379 - val_acc: 0.6542\n",
      "Epoch 15/20\n",
      "8005/8005 [==============================] - 3615s 452ms/step - loss: 4.1890 - acc: 0.6850 - val_loss: 0.5345 - val_acc: 0.6201\n",
      "Epoch 16/20\n",
      "8005/8005 [==============================] - 3020s 377ms/step - loss: 4.1665 - acc: 0.6906 - val_loss: 0.6007 - val_acc: 0.5007\n",
      "Epoch 17/20\n",
      "8005/8005 [==============================] - 3191s 399ms/step - loss: 4.1744 - acc: 0.6863 - val_loss: 0.6039 - val_acc: 0.5090\n",
      "Epoch 18/20\n",
      "8005/8005 [==============================] - 2916s 364ms/step - loss: 4.1877 - acc: 0.6842 - val_loss: 0.6114 - val_acc: 0.5343\n",
      "Epoch 19/20\n",
      "8005/8005 [==============================] - 3318s 414ms/step - loss: 4.1662 - acc: 0.6835 - val_loss: 0.5522 - val_acc: 0.6793\n",
      "Epoch 20/20\n",
      "8005/8005 [==============================] - 3834s 479ms/step - loss: 4.2072 - acc: 0.6632 - val_loss: 0.6311 - val_acc: 0.5015\n"
     ]
    },
    {
     "data": {
      "text/plain": [
       "<keras.callbacks.History at 0x209477a2080>"
      ]
     },
     "execution_count": 64,
     "metadata": {},
     "output_type": "execute_result"
    }
   ],
   "source": [
    "model.fit_generator(training_set,\n",
    "steps_per_epoch = 8005,\n",
    "epochs = 20,\n",
    "validation_data = test_set,\n",
    "validation_steps = 2023)"
   ]
  },
  {
   "cell_type": "code",
   "execution_count": null,
   "metadata": {},
   "outputs": [],
   "source": []
  }
 ],
 "metadata": {
  "kernelspec": {
   "display_name": "Python 3",
   "language": "python",
   "name": "python3"
  },
  "language_info": {
   "codemirror_mode": {
    "name": "ipython",
    "version": 3
   },
   "file_extension": ".py",
   "mimetype": "text/x-python",
   "name": "python",
   "nbconvert_exporter": "python",
   "pygments_lexer": "ipython3",
   "version": "3.6.2"
  }
 },
 "nbformat": 4,
 "nbformat_minor": 2
}
